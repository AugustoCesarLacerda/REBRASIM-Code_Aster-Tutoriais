{
 "cells": [
  {
   "cell_type": "code",
   "execution_count": 1,
   "metadata": {},
   "outputs": [],
   "source": [
    "import pandas as pd\n",
    "%matplotlib ipympl"
   ]
  },
  {
   "cell_type": "code",
   "execution_count": 2,
   "metadata": {},
   "outputs": [
    {
     "data": {
      "application/vnd.jupyter.widget-view+json": {
       "model_id": "6068786f3cb448fbb431f2470fe2112b",
       "version_major": 2,
       "version_minor": 0
      },
      "text/plain": [
       "Canvas(toolbar=Toolbar(toolitems=[('Home', 'Reset original view', 'home', 'home'), ('Back', 'Back to previous …"
      ]
     },
     "metadata": {},
     "output_type": "display_data"
    },
    {
     "data": {
      "application/vnd.jupyter.widget-view+json": {
       "model_id": "f7e809829b5643f5a7639e96c3029c26",
       "version_major": 2,
       "version_minor": 0
      },
      "text/plain": [
       "Canvas(toolbar=Toolbar(toolitems=[('Home', 'Reset original view', 'home', 'home'), ('Back', 'Back to previous …"
      ]
     },
     "metadata": {},
     "output_type": "display_data"
    },
    {
     "data": {
      "text/plain": [
       "<matplotlib.axes._subplots.AxesSubplot at 0x7f214e9dfe20>"
      ]
     },
     "execution_count": 2,
     "metadata": {},
     "output_type": "execute_result"
    }
   ],
   "source": [
    "gm1 = pd.read_csv('A-TMZ000.txt', header=4, delimiter='\\t')\n",
    "gm2 = pd.read_csv('A-TMZ270.txt', header=4, delimiter='\\t')\n",
    "gm1.plot(x='time', grid=True)\n",
    "gm2.plot(x='time', grid=True)"
   ]
  },
  {
   "cell_type": "code",
   "execution_count": 3,
   "metadata": {},
   "outputs": [
    {
     "data": {
      "application/vnd.jupyter.widget-view+json": {
       "model_id": "f2a2ec4465f74d47a79523c9221496e9",
       "version_major": 2,
       "version_minor": 0
      },
      "text/plain": [
       "Canvas(toolbar=Toolbar(toolitems=[('Home', 'Reset original view', 'home', 'home'), ('Back', 'Back to previous …"
      ]
     },
     "metadata": {},
     "output_type": "display_data"
    },
    {
     "data": {
      "text/plain": [
       "<matplotlib.axes._subplots.AxesSubplot at 0x7f214c898070>"
      ]
     },
     "execution_count": 3,
     "metadata": {},
     "output_type": "execute_result"
    }
   ],
   "source": [
    "res = pd.read_csv('seismic.resu', header=3, delimiter='\\s+')\n",
    "res.plot(x='INST', grid=True)"
   ]
  },
  {
   "cell_type": "code",
   "execution_count": 4,
   "metadata": {},
   "outputs": [
    {
     "name": "stdout",
     "output_type": "stream",
     "text": [
      "-16.69 16.43 -19.33 22.96\n"
     ]
    }
   ],
   "source": [
    "print(\n",
    "    min(res['disp_X']),\n",
    "    max(res['disp_X']),\n",
    "    min(res['disp_Y']),\n",
    "    max(res['disp_Y'])\n",
    ")"
   ]
  },
  {
   "cell_type": "code",
   "execution_count": 11,
   "metadata": {},
   "outputs": [
    {
     "name": "stdout",
     "output_type": "stream",
     "text": [
      "-20.98 17.45 -19.38 21.96\n"
     ]
    },
    {
     "data": {
      "application/vnd.jupyter.widget-view+json": {
       "model_id": "b5303b74c18f40208d9dc0c1645aca45",
       "version_major": 2,
       "version_minor": 0
      },
      "text/plain": [
       "Canvas(toolbar=Toolbar(toolitems=[('Home', 'Reset original view', 'home', 'home'), ('Back', 'Back to previous …"
      ]
     },
     "metadata": {},
     "output_type": "display_data"
    },
    {
     "data": {
      "application/vnd.jupyter.widget-view+json": {
       "model_id": "79131676ae4f4a32b62fd97ce1ce51ad",
       "version_major": 2,
       "version_minor": 0
      },
      "text/plain": [
       "Canvas(toolbar=Toolbar(toolitems=[('Home', 'Reset original view', 'home', 'home'), ('Back', 'Back to previous …"
      ]
     },
     "metadata": {},
     "output_type": "display_data"
    },
    {
     "data": {
      "text/plain": [
       "Text(0, 0.5, 'Displacement [mm]')"
      ]
     },
     "execution_count": 11,
     "metadata": {},
     "output_type": "execute_result"
    }
   ],
   "source": [
    "res2 = pd.read_csv('../LDA-Example/seismic.resu', header=3, delimiter='\\s+')\n",
    "\n",
    "print(\n",
    "    min(res2['disp_X']),\n",
    "    max(res2['disp_X']),\n",
    "    min(res2['disp_Y']),\n",
    "    max(res2['disp_Y'])\n",
    ")\n",
    "\n",
    "ax1 = res.plot(x='INST', y=['disp_X'], grid=True)\n",
    "res2.plot(ax = ax1, x='INST', y=['disp_X'], grid=True)\n",
    "ax1.legend(['Nonlinear', 'Linear'])\n",
    "ax1.set_title('Average Roof Displacement in X direction')\n",
    "ax1.set_xlabel('Time [sec]')\n",
    "ax1.set_ylabel('Displacement [mm]')\n",
    "\n",
    "ax2 = res.plot(x='INST', y=['disp_Y'], grid=True)\n",
    "res2.plot(ax = ax2, x='INST', y=['disp_Y'], grid=True)\n",
    "ax2.legend(['Nonlinear', 'Linear'])\n",
    "ax2.set_title('Average Roof Displacement in Y direction')\n",
    "ax2.set_xlabel('Time [sec]')\n",
    "ax2.set_ylabel('Displacement [mm]')"
   ]
  },
  {
   "cell_type": "code",
   "execution_count": null,
   "metadata": {},
   "outputs": [],
   "source": []
  }
 ],
 "metadata": {
  "kernelspec": {
   "display_name": "Python 3",
   "language": "python",
   "name": "python3"
  },
  "language_info": {
   "codemirror_mode": {
    "name": "ipython",
    "version": 3
   },
   "file_extension": ".py",
   "mimetype": "text/x-python",
   "name": "python",
   "nbconvert_exporter": "python",
   "pygments_lexer": "ipython3",
   "version": "3.8.2"
  }
 },
 "nbformat": 4,
 "nbformat_minor": 4
}
