{
 "cells": [
  {
   "cell_type": "code",
   "execution_count": 1,
   "metadata": {},
   "outputs": [],
   "source": [
    "import pandas as pd\n",
    "%matplotlib ipympl\n",
    "import matplotlib.pyplot as plt"
   ]
  },
  {
   "cell_type": "code",
   "execution_count": 2,
   "metadata": {},
   "outputs": [
    {
     "data": {
      "application/vnd.jupyter.widget-view+json": {
       "model_id": "91b9c12d5bb444d0801455261f953041",
       "version_major": 2,
       "version_minor": 0
      },
      "text/plain": [
       "Canvas(toolbar=Toolbar(toolitems=[('Home', 'Reset original view', 'home', 'home'), ('Back', 'Back to previous …"
      ]
     },
     "metadata": {},
     "output_type": "display_data"
    },
    {
     "data": {
      "application/vnd.jupyter.widget-view+json": {
       "model_id": "3ad5300699bc48ebb913655396ebbcc6",
       "version_major": 2,
       "version_minor": 0
      },
      "text/plain": [
       "Canvas(toolbar=Toolbar(toolitems=[('Home', 'Reset original view', 'home', 'home'), ('Back', 'Back to previous …"
      ]
     },
     "metadata": {},
     "output_type": "display_data"
    },
    {
     "data": {
      "text/plain": [
       "<AxesSubplot:xlabel='time'>"
      ]
     },
     "execution_count": 2,
     "metadata": {},
     "output_type": "execute_result"
    }
   ],
   "source": [
    "gm1 = pd.read_csv('A-TMZ000.txt', header=4, delimiter='\\t')\n",
    "gm2 = pd.read_csv('A-TMZ270.txt', header=4, delimiter='\\t')\n",
    "gm1.plot(x='time', grid=True)\n",
    "gm2.plot(x='time', grid=True)"
   ]
  },
  {
   "cell_type": "code",
   "execution_count": 3,
   "metadata": {},
   "outputs": [
    {
     "data": {
      "application/vnd.jupyter.widget-view+json": {
       "model_id": "996368b946234b53be5273cd3eef0709",
       "version_major": 2,
       "version_minor": 0
      },
      "text/plain": [
       "Canvas(toolbar=Toolbar(toolitems=[('Home', 'Reset original view', 'home', 'home'), ('Back', 'Back to previous …"
      ]
     },
     "metadata": {},
     "output_type": "display_data"
    },
    {
     "data": {
      "text/plain": [
       "<AxesSubplot:xlabel='INST'>"
      ]
     },
     "execution_count": 3,
     "metadata": {},
     "output_type": "execute_result"
    }
   ],
   "source": [
    "res = pd.read_csv('seismic.resu', header=3, delimiter='\\s+')\n",
    "res.plot(x='INST', grid=True)"
   ]
  },
  {
   "cell_type": "code",
   "execution_count": 4,
   "metadata": {},
   "outputs": [
    {
     "data": {
      "application/vnd.jupyter.widget-view+json": {
       "model_id": "4ff0b0b82f9045239a1c1cd2a28c9243",
       "version_major": 2,
       "version_minor": 0
      },
      "text/plain": [
       "Canvas(toolbar=Toolbar(toolitems=[('Home', 'Reset original view', 'home', 'home'), ('Back', 'Back to previous …"
      ]
     },
     "metadata": {},
     "output_type": "display_data"
    },
    {
     "data": {
      "application/vnd.jupyter.widget-view+json": {
       "model_id": "f7cd376fc50f40098968ba2cbb65ab96",
       "version_major": 2,
       "version_minor": 0
      },
      "text/plain": [
       "Canvas(toolbar=Toolbar(toolitems=[('Home', 'Reset original view', 'home', 'home'), ('Back', 'Back to previous …"
      ]
     },
     "metadata": {},
     "output_type": "display_data"
    },
    {
     "data": {
      "text/plain": [
       "Text(0, 0.5, 'Displacement [mm]')"
      ]
     },
     "execution_count": 4,
     "metadata": {},
     "output_type": "execute_result"
    }
   ],
   "source": [
    "plt.tight_layout()\n",
    "\n",
    "res2 = pd.read_csv('../NLDA-Example/seismic.resu', header=3, delimiter='\\s+')\n",
    "\n",
    "ax1 = res.plot(x='INST', y=['disp_X'], grid=True)\n",
    "res2.plot(ax = ax1, x='INST', y=['disp_X'], grid=True)\n",
    "ax1.legend(['MODAL BASE', 'PHYSICAL BASE']);\n",
    "ax1.set_title('Average Roof Displacement in X direction')\n",
    "ax1.set_xlabel('Time [sec]')\n",
    "ax1.set_ylabel('Displacement [mm]')\n",
    "\n",
    "ax2 = res.plot(x='INST', y=['disp_Y'], grid=True)\n",
    "res2.plot(ax = ax2, x='INST', y=['disp_Y'], grid=True)\n",
    "ax2.legend(['MODAL BASE', 'PHYSICAL BASE']);\n",
    "ax2.set_title('Average Roof Displacement in Y direction')\n",
    "ax2.set_xlabel('Time [sec]')\n",
    "ax2.set_ylabel('Displacement [mm]')"
   ]
  },
  {
   "cell_type": "code",
   "execution_count": 5,
   "metadata": {},
   "outputs": [
    {
     "name": "stdout",
     "output_type": "stream",
     "text": [
      "-19.84 19.83 -19.8 23.54\n",
      "-16.69 16.43 -19.33 22.96\n"
     ]
    }
   ],
   "source": [
    "print(\n",
    "    min(res['disp_X']),\n",
    "    max(res['disp_X']),\n",
    "    min(res['disp_Y']),\n",
    "    max(res['disp_Y'])\n",
    ")\n",
    "\n",
    "print(\n",
    "    min(res2['disp_X']),\n",
    "    max(res2['disp_X']),\n",
    "    min(res2['disp_Y']),\n",
    "    max(res2['disp_Y'])\n",
    ")"
   ]
  },
  {
   "cell_type": "code",
   "execution_count": 6,
   "metadata": {},
   "outputs": [
    {
     "data": {
      "text/plain": [
       "[0.18873576992210905,\n",
       " 0.20693852708460136,\n",
       " 0.024314536989136215,\n",
       " 0.025261324041811806]"
      ]
     },
     "execution_count": 6,
     "metadata": {},
     "output_type": "execute_result"
    }
   ],
   "source": [
    "a = [-19.84, 19.83, -19.8, 23.54]\n",
    "b = [-16.69, 16.43, -19.33, 22.96]\n",
    "[ai/bi - 1 for ai,bi in zip(a,b)]"
   ]
  },
  {
   "cell_type": "code",
   "execution_count": null,
   "metadata": {},
   "outputs": [],
   "source": []
  }
 ],
 "metadata": {
  "kernelspec": {
   "display_name": "Python 3",
   "language": "python",
   "name": "python3"
  },
  "language_info": {
   "codemirror_mode": {
    "name": "ipython",
    "version": 3
   },
   "file_extension": ".py",
   "mimetype": "text/x-python",
   "name": "python",
   "nbconvert_exporter": "python",
   "pygments_lexer": "ipython3",
   "version": "3.7.10"
  }
 },
 "nbformat": 4,
 "nbformat_minor": 4
}
